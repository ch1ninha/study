{
 "cells": [
  {
   "cell_type": "code",
   "execution_count": 1,
   "id": "eb99b452-d666-4655-8c1d-012a11321176",
   "metadata": {},
   "outputs": [],
   "source": [
    "def oi_voce(nome):\n",
    "    return f\"Salveee, {nome}\"\n",
    "\n",
    "def tudo_bem(func):\n",
    "    return func(\"Lucas\")"
   ]
  },
  {
   "cell_type": "code",
   "execution_count": 2,
   "id": "12e63d7c-7d29-46c3-96c3-5df404764a95",
   "metadata": {},
   "outputs": [
    {
     "data": {
      "text/plain": [
       "'Salveee, lucas'"
      ]
     },
     "execution_count": 2,
     "metadata": {},
     "output_type": "execute_result"
    }
   ],
   "source": [
    "oi_voce(\"lucas\")"
   ]
  },
  {
   "cell_type": "code",
   "execution_count": 6,
   "id": "3f65239e-073c-4126-85e2-251c2d2c9a45",
   "metadata": {},
   "outputs": [
    {
     "data": {
      "text/plain": [
       "'Salveee, Lucas'"
      ]
     },
     "execution_count": 6,
     "metadata": {},
     "output_type": "execute_result"
    }
   ],
   "source": [
    "tudo_bem(oi_voce)"
   ]
  },
  {
   "cell_type": "code",
   "execution_count": 11,
   "id": "14c4c7e6-632a-436c-8014-d13c123861df",
   "metadata": {},
   "outputs": [],
   "source": [
    "def basico(x1,x2):\n",
    "    print(\"N¹ -> {}\\nN² -> {}\\n\".format(x1,x2))\n",
    "    \n",
    "    def somar():\n",
    "        return print(f\"Soma\\n{x1} + {x2} = {x1+x2}\")\n",
    "    \n",
    "    def sub():\n",
    "        return print(f\"Subtração\\n{x1} - {x2} = {x1-x2}\")\n",
    "    \n",
    "    def div():\n",
    "        return print(f\"Divisao\\n{x1} / {x2} = {x1/x2}\")\n",
    "    \n",
    "    def mult():\n",
    "        return print(f\"Multiplicação\\n{x1} * {x2} = {x1*x2}\")\n",
    "    \n",
    "    def pot():\n",
    "        return print(f\"Potencia(?)\\n{x1} ^ {x2} = {x1**x2}\")\n",
    "    \n",
    "    somar()\n",
    "    sub()\n",
    "    div()\n",
    "    mult()\n",
    "    pot()"
   ]
  },
  {
   "cell_type": "code",
   "execution_count": 12,
   "id": "05e702d4-6055-4e6a-8384-5dc63507831e",
   "metadata": {},
   "outputs": [
    {
     "name": "stdout",
     "output_type": "stream",
     "text": [
      "N¹ -> 5\n",
      "N² -> 2\n",
      "\n",
      "Soma\n",
      "5 + 2 = 7\n",
      "Subtração\n",
      "5 - 2 = 3\n",
      "Divisao\n",
      "5 / 2 = 2.5\n",
      "Multiplicação\n",
      "5 * 2 = 10\n",
      "Potencia(?)\n",
      "5 ^ 2 = 25\n"
     ]
    }
   ],
   "source": [
    "basico(5,2)"
   ]
  },
  {
   "cell_type": "code",
   "execution_count": 50,
   "id": "4f29a9b2-5c27-4299-960d-c7449841b100",
   "metadata": {},
   "outputs": [
    {
     "name": "stdout",
     "output_type": "stream",
     "text": [
      "<generator object func at 0x000001C3D946ACC8>\n",
      "0\n",
      "na funcao, new -> None\n",
      "None\n",
      "na funcao, new -> 5\n",
      "5\n",
      "na funcao, new -> None\n",
      "None\n"
     ]
    }
   ],
   "source": [
    "#\n",
    "def func():\n",
    "    output = 0\n",
    "    while True:\n",
    "        new = yield output\n",
    "        # lista_resultado.append(output)\n",
    "        print(\"na funcao, new -> {}\".format(new))\n",
    "        output = new\n",
    "        #lista_resultado.append(output)\n",
    "        \n",
    "genr = func() \n",
    "print(genr)\n",
    "print(next(genr))\n",
    "print(next(genr))\n",
    "print(genr.send(5))\n",
    "print(next(genr))\n",
    "\n"
   ]
  },
  {
   "cell_type": "code",
   "execution_count": 13,
   "id": "bfaa8f1a-9536-4a51-9e9a-c4745c116a7b",
   "metadata": {},
   "outputs": [],
   "source": [
    "def generator():\n",
    "    print(\"Primeiro\")\n",
    "    yield 1\n",
    "    \n",
    "    print(\"Segundo\")\n",
    "    yield 2\n",
    "    \n",
    "    print(\"Terceiro\")\n",
    "    yield 3\n",
    "    \n",
    "    print(\"Quarto\")\n",
    "    yield 4"
   ]
  },
  {
   "cell_type": "code",
   "execution_count": 14,
   "id": "47734496-386b-4a1b-9e78-8702fdba2252",
   "metadata": {},
   "outputs": [
    {
     "name": "stdout",
     "output_type": "stream",
     "text": [
      "Primeiro\n",
      "1\n",
      "Segundo\n",
      "2\n",
      "\n",
      "Terceiro\n",
      "3\n"
     ]
    }
   ],
   "source": [
    "gen = generator()\n",
    "\n",
    "print(next(gen))\n",
    "print(next(gen))\n",
    "print()\n",
    "print(next(gen))"
   ]
  },
  {
   "cell_type": "code",
   "execution_count": 15,
   "id": "b1d7b593-7996-4752-a7a6-f1729d3a5b4c",
   "metadata": {},
   "outputs": [
    {
     "name": "stdout",
     "output_type": "stream",
     "text": [
      "<class 'tuple'>\n"
     ]
    }
   ],
   "source": [
    "x = ([],)\n",
    "\n",
    "print(type(x))"
   ]
  },
  {
   "cell_type": "code",
   "execution_count": 16,
   "id": "dc081d0a-ca8b-4b62-bd0b-566ee31f333e",
   "metadata": {},
   "outputs": [],
   "source": [
    "tupla = ([],[])"
   ]
  },
  {
   "cell_type": "code",
   "execution_count": 17,
   "id": "9d99fa08-ade9-4e28-a110-258ed2492051",
   "metadata": {},
   "outputs": [
    {
     "name": "stdout",
     "output_type": "stream",
     "text": [
      "nested2: 100\n",
      "nested: 100\n",
      "func: 10\n",
      "outer: 1\n"
     ]
    }
   ],
   "source": [
    "def func():\n",
    "    def nested():\n",
    "        def nested2():\n",
    "            nonlocal x\n",
    "            x = 100\n",
    "            print(\"nested2:\", x)\n",
    "        x = 50\n",
    "        nested2()\n",
    "        print(\"nested:\", x)\n",
    "    x = 10\n",
    "    nested()\n",
    "    print(\"func:\", x)\n",
    "\n",
    "x = 1\n",
    "func()\n",
    "print(\"outer:\", x)"
   ]
  },
  {
   "cell_type": "code",
   "execution_count": 9,
   "id": "6fc7d68d-278b-42cf-9672-1e7471c95299",
   "metadata": {},
   "outputs": [
    {
     "name": "stdout",
     "output_type": "stream",
     "text": [
      "200\n",
      "200\n"
     ]
    },
    {
     "data": {
      "image/png": "[encoded data removed]",
      "text/plain": [
       "<Figure size 432x288 with 1 Axes>"
      ]
     },
     "metadata": {
      "needs_background": "light"
     },
     "output_type": "display_data"
    }
   ],
   "source": [
    "from random import randint\n",
    "from matplotlib.pyplot import scatter\n",
    "\n",
    "x = [randint(0,200) for x in range(0,200)]\n",
    "y = [randint(0,100) for y in range(0,200)]\n",
    "\n",
    "scatter(x,y)\n",
    "print(len(x))\n",
    "print(len(y))"
   ]
  },
  {
   "cell_type": "code",
   "execution_count": 10,
   "id": "21ef9828-2f38-4b58-80d6-0e7bc00953a6",
   "metadata": {},
   "outputs": [
    {
     "name": "stdout",
     "output_type": "stream",
     "text": [
      "[4, 8]\n",
      "False\n",
      "False\n",
      "True\n",
      "False\n",
      "False\n",
      "True\n",
      "False\n"
     ]
    }
   ],
   "source": [
    "inteiros = [1,3,4,5,7,8,9]\n",
    "pares = [numero for numero in inteiros if numero % 2 == 0]\n",
    "print(pares)\n"
   ]
  },
  {
   "cell_type": "code",
   "execution_count": 1,
   "id": "a6287be9-6a8c-49b0-ad49-ae7abab3daf3",
   "metadata": {},
   "outputs": [],
   "source": [
    "import Ferramentas"
   ]
  },
  {
   "cell_type": "code",
   "execution_count": 2,
   "id": "989ec272-1564-43ae-8b5d-ffb51d8fea6d",
   "metadata": {},
   "outputs": [
    {
     "name": "stdout",
     "output_type": "stream",
     "text": [
      "oi\n"
     ]
    }
   ],
   "source": [
    "print(\"oi\")"
   ]
  },
  {
   "cell_type": "code",
   "execution_count": null,
   "id": "21e89c05-cd08-495d-976d-71816c87b6df",
   "metadata": {},
   "outputs": [],
   "source": []
  },
  {
   "cell_type": "code",
   "execution_count": 1,
   "id": "913ac2dd-e826-4a58-bdd2-aed77fbb81a6",
   "metadata": {},
   "outputs": [],
   "source": [
    "from flask import Flask\n",
    "\n",
    "app = Flask(__name__)"
   ]
  },
  {
   "cell_type": "code",
   "execution_count": 1,
   "id": "c6021f54-fe21-4ead-9ec2-47737ca4649a",
   "metadata": {},
   "outputs": [
    {
     "ename": "NameError",
     "evalue": "name 'app' is not defined",
     "output_type": "error",
     "traceback": [
      "\u001b[1;31m---------------------------------------------------------------------------\u001b[0m",
      "\u001b[1;31mNameError\u001b[0m                                 Traceback (most recent call last)",
      "\u001b[1;32m~\\AppData\\Local\\Temp/ipykernel_17312/4080103781.py\u001b[0m in \u001b[0;36m<module>\u001b[1;34m\u001b[0m\n\u001b[0;32m      1\u001b[0m \u001b[1;31m# rodando o codigo para o flask\u001b[0m\u001b[1;33m\u001b[0m\u001b[1;33m\u001b[0m\u001b[0m\n\u001b[1;32m----> 2\u001b[1;33m \u001b[1;33m@\u001b[0m\u001b[0mapp\u001b[0m\u001b[1;33m.\u001b[0m\u001b[0mroute\u001b[0m\u001b[1;33m(\u001b[0m\u001b[1;34m\"/\"\u001b[0m\u001b[1;33m)\u001b[0m\u001b[1;33m\u001b[0m\u001b[1;33m\u001b[0m\u001b[0m\n\u001b[0m\u001b[0;32m      3\u001b[0m \u001b[1;32mdef\u001b[0m \u001b[0mindex\u001b[0m\u001b[1;33m(\u001b[0m\u001b[1;33m)\u001b[0m\u001b[1;33m:\u001b[0m\u001b[1;33m\u001b[0m\u001b[1;33m\u001b[0m\u001b[0m\n\u001b[0;32m      4\u001b[0m     \u001b[0mcobra\u001b[0m \u001b[1;33m=\u001b[0m \u001b[0msnake\u001b[0m\u001b[1;33m(\u001b[0m\u001b[1;36m2\u001b[0m\u001b[1;33m,\u001b[0m\u001b[1;36m2\u001b[0m\u001b[1;33m)\u001b[0m\u001b[1;33m\u001b[0m\u001b[1;33m\u001b[0m\u001b[0m\n\u001b[0;32m      5\u001b[0m     html = f\"\"\"<div class=\"snake\">\n",
      "\u001b[1;31mNameError\u001b[0m: name 'app' is not defined"
     ]
    }
   ],
   "source": [
    "# rodando o codigo para o flask\n",
    "@app.route(\"/\")\n",
    "def index():\n",
    "    cobra = snake(2,2)\n",
    "    html = f\"\"\"\n",
    "    <div class=\"buttons\">\n",
    "        <button onclick=\"{cobra.subir()}\">Subir /\\</button>\n",
    "        <button onclick=\"{cobra.descer()}\">Descer \\/</button>\n",
    "        <button onclick=\"{cobra.direita()}\">Direita -></button>\n",
    "        <button onclick=\"{cobra.esquerda()}\">Esquerda <-</button>\n",
    "    </div>\n",
    "    <br><br>\n",
    "    <div class=\"game\">\n",
    "        {cobra.game}\n",
    "    </div>\"\"\"\n",
    "    return html\n"
   ]
  },
  {
   "cell_type": "code",
   "execution_count": 2,
   "id": "86f0cbe5-f63e-4e6f-86aa-0b48f83ee63d",
   "metadata": {},
   "outputs": [
    {
     "ename": "NameError",
     "evalue": "name 'app' is not defined",
     "output_type": "error",
     "traceback": [
      "\u001b[1;31m---------------------------------------------------------------------------\u001b[0m",
      "\u001b[1;31mNameError\u001b[0m                                 Traceback (most recent call last)",
      "\u001b[1;32m~\\AppData\\Local\\Temp/ipykernel_17312/1404341251.py\u001b[0m in \u001b[0;36m<module>\u001b[1;34m\u001b[0m\n\u001b[1;32m----> 1\u001b[1;33m \u001b[0mapp\u001b[0m\u001b[1;33m.\u001b[0m\u001b[0mrun\u001b[0m\u001b[1;33m(\u001b[0m\u001b[1;33m)\u001b[0m\u001b[1;33m\u001b[0m\u001b[1;33m\u001b[0m\u001b[0m\n\u001b[0m",
      "\u001b[1;31mNameError\u001b[0m: name 'app' is not defined"
     ]
    }
   ],
   "source": [
    "app.run()"
   ]
  },
  {
   "cell_type": "code",
   "execution_count": 2,
   "id": "a2d5aaaa-6dba-42f8-ae20-427031337082",
   "metadata": {},
   "outputs": [],
   "source": [
    "class snake:\n",
    "    def __init__(self,x,y):\n",
    "        self.game = [[\"-\" for _ in range(5)] for _ in range(5)]\n",
    "        self.game[x][y] = \"0\" # posicao inicial\n",
    "        self._x = x\n",
    "        self._y = y\n",
    "        self._movements = 0\n",
    "        \n",
    "    def move(self):\n",
    "        self._movements += 1\n",
    "        \n",
    "    def show(self):\n",
    "        print(\"tamanho x: {}\".format(len(self.game[0])))\n",
    "        print(\"tamanho y: {}\".format(len([_[0] for _ in self.game])))\n",
    "        for i in self.game:\n",
    "            print(i)\n",
    "            \n",
    "    # movimentacoes\n",
    "    def descer(self):\n",
    "        # adding 1 value on Y index, | vertical\n",
    "        self.set_y(self.get_y() + 1)\n",
    "        # if it reached the limit, start at index 0, going to the top\n",
    "        if self.get_y() > 4:\n",
    "            self.set_y(0)\n",
    "        # putting a different value on this cell, to now we pass here\n",
    "        self.game[self.get_y()][self.get_x()] = \"0\"\n",
    "        self.move()\n",
    "        \n",
    "    def subir(self):\n",
    "        self.set_y(self.get_y() - 1)\n",
    "        if self.get_y() < 0:\n",
    "            self.set_y(4)\n",
    "        self.game[self.get_y()][self.get_x()] = \"0\"\n",
    "        self.move()\n",
    "        \n",
    "    def direita(self):\n",
    "        self.set_x(self.get_x() + 1)\n",
    "        if self.get_x() > 4:\n",
    "            self.set_x(0)\n",
    "        self.game[self.get_y()][self.get_x()] = \"0\"\n",
    "        self.move()\n",
    "        \n",
    "    def esquerda(self):\n",
    "        self.set_x(self.get_x() - 1)\n",
    "        if self.get_x() < 0:\n",
    "            self.set_x(4)\n",
    "        self.game[self.get_y()][self.get_x()] = \"0\"\n",
    "        self.move()\n",
    "    # --------------- fim movimentações\n",
    "    \n",
    "    def limpar(self):\n",
    "        o = 1\n",
    "        while o >= 0 and o <= 1:\n",
    "            o = int(input(\"0 -> Limpar jogo\\n1 -> Continuar\\n\"))\n",
    "            if o == 0:\n",
    "                for i in range(5):\n",
    "                    for j in range(5):\n",
    "                        self.game[i][j] = \"-\"\n",
    "                break\n",
    "            elif o == 1:\n",
    "                print(\"Continuando!\")\n",
    "                break\n",
    "            \n",
    "    \n",
    "    # métodos getter e setter\n",
    "    def get_x(self):\n",
    "        return self._x\n",
    "    def set_x(self, x):\n",
    "        self._x = x\n",
    "    def get_y(self):\n",
    "        return self._y\n",
    "    def set_y(self, y):\n",
    "        self._y = y\n",
    "    def get_move(self):\n",
    "        return self._movements\n",
    "    # fim métodos getter e setter"
   ]
  },
  {
   "cell_type": "code",
   "execution_count": 3,
   "id": "4727fce3-ace0-4366-a54a-8c18c1e5734d",
   "metadata": {},
   "outputs": [
    {
     "name": "stdout",
     "output_type": "stream",
     "text": [
      "tamanho x: 5\n",
      "tamanho y: 5\n",
      "['-', '-', '-', '-', '-']\n",
      "['-', '-', '-', '-', '-']\n",
      "['-', '-', '0', '-', '-']\n",
      "['-', '-', '-', '-', '-']\n",
      "['-', '-', '-', '-', '-']\n",
      "3\n",
      "4\n",
      "Cobra andou 72 vezes\n"
     ]
    },
    {
     "name": "stdin",
     "output_type": "stream",
     "text": [
      "0 -> Limpar jogo\n",
      "1 -> Continuar\n",
      " 1\n"
     ]
    },
    {
     "name": "stdout",
     "output_type": "stream",
     "text": [
      "Continuando!\n"
     ]
    },
    {
     "data": {
      "text/plain": [
       "[['0', '0', '0', '0', '0'],\n",
       " ['0', '0', '0', '0', '0'],\n",
       " ['0', '0', '0', '0', '0'],\n",
       " ['0', '0', '0', '0', '0'],\n",
       " ['0', '0', '0', '0', '0']]"
      ]
     },
     "execution_count": 3,
     "metadata": {},
     "output_type": "execute_result"
    }
   ],
   "source": [
    "cobra = snake(2,2)\n",
    "cobra.show()\n",
    "cobra.direita()\n",
    "print(cobra.get_x())\n",
    "cobra.direita()\n",
    "print(cobra.get_x())\n",
    "# cobra.descer()\n",
    "# cobra.descer()\n",
    "# cobra.descer()\n",
    "\n",
    "\n",
    "#cobra.direita()\n",
    "for i in range(20):\n",
    "    cobra.subir()\n",
    "    cobra.direita()\n",
    "    \n",
    "for i in range(5):\n",
    "    cobra.esquerda()\n",
    "    for j in range(5):\n",
    "        cobra.descer()\n",
    "print(\"Cobra andou {} vezes\".format(cobra.get_move()))\n",
    "cobra.game\n",
    "cobra.limpar()\n",
    "cobra.game\n",
    "#cobra.direita()\n",
    "# cobra.descer()\n",
    "# cobra.descer()\n",
    "# cobra.descer()\n",
    "# cobra.esquerda()\n",
    "# cobra.game"
   ]
  },
  {
   "cell_type": "code",
   "execution_count": 11,
   "id": "43b66576-1f3f-49a1-950b-d7523d852bcb",
   "metadata": {},
   "outputs": [
    {
     "name": "stdout",
     "output_type": "stream",
     "text": [
      "wrap | func.__name__: wrap\n",
      "wrapped | func.__name__: foo\n",
      "2\n",
      "2\n"
     ]
    }
   ],
   "source": [
    "def wrap(func):\n",
    "    print(f\"wrap | func.__name__: {func.__name__}\")\n",
    "    def wrapped(arg=2):\n",
    "        print(f\"wrapped | func.__name__: {func.__name__}\")\n",
    "        print(arg)\n",
    "        return func(arg)\n",
    "    return wrapped\n",
    "\n",
    "@wrap\n",
    "def wrap(x=1):\n",
    "    return x\n",
    "\n",
    "print(foo())"
   ]
  },
  {
   "cell_type": "code",
   "execution_count": 8,
   "id": "f489d2f7-55e3-498d-9bc8-9321976a17e9",
   "metadata": {},
   "outputs": [
    {
     "data": {
      "text/plain": [
       "['_', '_', '_', '_', '_', '_']"
      ]
     },
     "execution_count": 8,
     "metadata": {},
     "output_type": "execute_result"
    }
   ],
   "source": [
    "palavra = \"banana\"\n",
    "[\"_\"]*len(palavra)"
   ]
  },
  {
   "cell_type": "code",
   "execution_count": null,
   "id": "6fc58be2-016f-4ff5-8e89-4d3fa36b1945",
   "metadata": {},
   "outputs": [],
   "source": []
  },
  {
   "cell_type": "code",
   "execution_count": 9,
   "id": "6e4149da-ea1a-4e55-b630-b9834a76e37e",
   "metadata": {},
   "outputs": [
    {
     "name": "stdout",
     "output_type": "stream",
     "text": [
      "Aqui tem um arquivo com o nome 'teste.txt', vamos usar ele para aprender python :D !\n",
      "<built-in method read of _io.TextIOWrapper object at 0x000001B62A4F3ED0>\n"
     ]
    }
   ],
   "source": [
    "arquivo = open(\"teste.txt\",\"r\")\n",
    "for i in arquivo:\n",
    "    print(i)\n",
    "print(arquivo.read)"
   ]
  },
  {
   "cell_type": "code",
   "execution_count": 14,
   "id": "83e974e4-0a6f-4952-953e-e9d594b69b6b",
   "metadata": {},
   "outputs": [
    {
     "name": "stdout",
     "output_type": "stream",
     "text": [
      "-------------\n",
      "['asdf asdfasdfadsf sadf asdf asdf', 'asdf asdf adsf asdf', 'sdafasdf']\n"
     ]
    }
   ],
   "source": [
    "def jogar():\n",
    "    print(\"-------------\")\n",
    "    \n",
    "arquivo = open(\"palavras.txt\", \"r\")\n",
    "palavras = []\n",
    "for linha in arquivo:\n",
    "    linha = linha.strip()\n",
    "    palavras.append(linha)\n",
    "arquivo.close()\n",
    "\n",
    "print(palavras)\n",
    "    \n",
    "jogar()"
   ]
  },
  {
   "cell_type": "code",
   "execution_count": 20,
   "id": "54d3c2a3-9f04-47e7-968d-86d24a1ce7e8",
   "metadata": {},
   "outputs": [
    {
     "name": "stdout",
     "output_type": "stream",
     "text": [
      "*********************************\n",
      "***Bem vindo ao jogo da Forca!***\n",
      "*********************************\n",
      "['_', '_', '_', '_', '_', '_']\n"
     ]
    },
    {
     "name": "stdin",
     "output_type": "stream",
     "text": [
      "Qual letra?  a\n"
     ]
    },
    {
     "name": "stdout",
     "output_type": "stream",
     "text": [
      "['_', 'A', '_', 'A', '_', 'A']\n"
     ]
    },
    {
     "name": "stdin",
     "output_type": "stream",
     "text": [
      "Qual letra?  n\n"
     ]
    },
    {
     "name": "stdout",
     "output_type": "stream",
     "text": [
      "['_', 'A', 'N', 'A', 'N', 'A']\n"
     ]
    },
    {
     "name": "stdin",
     "output_type": "stream",
     "text": [
      "Qual letra?  b\n"
     ]
    },
    {
     "name": "stdout",
     "output_type": "stream",
     "text": [
      "['B', 'A', 'N', 'A', 'N', 'A']\n",
      "Você ganhou!\n"
     ]
    }
   ],
   "source": [
    "def jogar():\n",
    "\n",
    "    print(\"*********************************\")\n",
    "    print(\"***Bem vindo ao jogo da Forca!***\")\n",
    "    print(\"*********************************\")\n",
    "\n",
    "    palavra_secreta = \"banana\".upper()\n",
    "    letras_acertadas = [\"_\", \"_\", \"_\", \"_\", \"_\", \"_\"]\n",
    "\n",
    "    enforcou = False\n",
    "    acertou = False\n",
    "    erros = 0\n",
    "\n",
    "    print(letras_acertadas)\n",
    "\n",
    "    while (not acertou and not enforcou):\n",
    "\n",
    "        chute = input(\"Qual letra? \")\n",
    "        chute = chute.strip().upper()\n",
    "\n",
    "        if (chute in palavra_secreta):\n",
    "            index = 0\n",
    "            for letra in palavra_secreta:\n",
    "                if (chute == letra):\n",
    "                    letras_acertadas[index] = letra\n",
    "                index += 1\n",
    "        else:\n",
    "            erros += 1\n",
    "\n",
    "        enforcou = erros == 6\n",
    "        acertou = \"_\" not in letras_acertadas\n",
    "        print(letras_acertadas)\n",
    "        \n",
    "        # if \"_\" not in letras_acertadas:\n",
    "        #     acertou = True\n",
    "        \n",
    "    if acertou:\n",
    "        print(\"Você ganhou!\")\n",
    "    else:\n",
    "        print(\"Você perdeu!\")\n",
    "\n",
    "        print(\"Fim do jogo\")\n",
    "\n",
    "if(__name__ == \"__main__\"):\n",
    "    jogar()"
   ]
  },
  {
   "cell_type": "code",
   "execution_count": 1,
   "id": "3f601cff-e206-4f40-9ba1-ba17a54f99d9",
   "metadata": {},
   "outputs": [
    {
     "data": {
      "text/plain": [
       "'Testueauhdf audshfu asdhfu ahsdfu'"
      ]
     },
     "execution_count": 1,
     "metadata": {},
     "output_type": "execute_result"
    }
   ],
   "source": [
    "\"testueauhdf audshfu asdhfu ahsdfu\".capitalize()"
   ]
  },
  {
   "cell_type": "code",
   "execution_count": 2,
   "id": "715327f1-9070-49b0-88a4-3b6892b07f4e",
   "metadata": {},
   "outputs": [],
   "source": [
    "nome_times = {\n",
    "    \"jogador_1\":{\"nome_jogador\":\"robson\",\"nome_time\":\"chelsea\"},\n",
    "    \"jogador_2\":{\"nome_jogador\":\"china\",\"nome_time\":\"man city\"},\n",
    "    \"jogador_3\":{\"nome_jogador\":\"brunao\",\"nome_time\":\"bucks\"},\n",
    "    \"jogador_4\":{\"nome_jogador\":\"pai\",\"nome_time\":\"inter\"}\n",
    "}"
   ]
  },
  {
   "cell_type": "code",
   "execution_count": 5,
   "id": "76e8bb9a-1d74-4b6c-b1b5-c24b43ad9835",
   "metadata": {},
   "outputs": [
    {
     "name": "stdout",
     "output_type": "stream",
     "text": [
      "robson\n",
      "chelsea\n",
      "{'nome_jogador': 'robson', 'nome_time': 'chelsea'}\n",
      "china\n",
      "man city\n",
      "{'nome_jogador': 'china', 'nome_time': 'man city'}\n",
      "brunao\n",
      "bucks\n",
      "{'nome_jogador': 'brunao', 'nome_time': 'bucks'}\n",
      "pai\n",
      "inter\n",
      "{'nome_jogador': 'pai', 'nome_time': 'inter'}\n"
     ]
    }
   ],
   "source": [
    "for i in nome_times:\n",
    "    jogador_atual = nome_times[i]\n",
    "    print(jogador_atual['nome_jogador'])\n",
    "    print(jogador_atual['nome_time'])\n",
    "    \n",
    "    print(nome_times[i])"
   ]
  },
  {
   "cell_type": "code",
   "execution_count": 5,
   "id": "73313b9b-54eb-421f-9988-f96307e1ef0e",
   "metadata": {},
   "outputs": [
    {
     "data": {
      "text/plain": [
       "['Jogador 0', 'Jogador 4', 'Jogador 2', 'Jogador 3', 'Jogador 1']"
      ]
     },
     "execution_count": 5,
     "metadata": {},
     "output_type": "execute_result"
    }
   ],
   "source": [
    "import random\n",
    "lista = []\n",
    "for i in range(5):\n",
    "    lista.append(f\"Jogador {i}\")\n",
    "    \n",
    "random.shuffle(lista)\n",
    "lista"
   ]
  },
  {
   "cell_type": "code",
   "execution_count": 8,
   "id": "1f176c20-c1eb-4b6c-b949-5689b982e532",
   "metadata": {},
   "outputs": [
    {
     "data": {
      "text/plain": [
       "[('sorriso', 'sinop'),\n",
       " ('cuiaba', 'rondo'),\n",
       " ('sinop', 'rondo'),\n",
       " ('sorriso', 'rondo'),\n",
       " ('sinop', 'cuiaba'),\n",
       " ('sorriso', 'cuiaba')]"
      ]
     },
     "execution_count": 8,
     "metadata": {},
     "output_type": "execute_result"
    }
   ],
   "source": [
    "import random\n",
    "l_ida = ['sorriso','sinop','cuiaba','rondo']\n",
    "l_volta = ['sorriso','sinop','cuiaba','rondo']\n",
    "partidas = []\n",
    "for ida in l_ida:\n",
    "    for volta in l_volta:\n",
    "        if ida != volta:\n",
    "            partidas.append((ida,volta))\n",
    "    l_volta.remove(ida)\n",
    "    \n",
    "random.shuffle(partidas)\n",
    "partidas"
   ]
  },
  {
   "cell_type": "code",
   "execution_count": null,
   "id": "cfdbaa29-360f-4ba7-b0db-b834181c48bd",
   "metadata": {},
   "outputs": [],
   "source": []
  }
 ],
 "metadata": {
  "kernelspec": {
   "display_name": "Python 3 (ipykernel)",
   "language": "python",
   "name": "python3"
  },
  "language_info": {
   "codemirror_mode": {
    "name": "ipython",
    "version": 3
   },
   "file_extension": ".py",
   "mimetype": "text/x-python",
   "name": "python",
   "nbconvert_exporter": "python",
   "pygments_lexer": "ipython3",
   "version": "3.10.1"
  }
 },
 "nbformat": 4,
 "nbformat_minor": 5
}
